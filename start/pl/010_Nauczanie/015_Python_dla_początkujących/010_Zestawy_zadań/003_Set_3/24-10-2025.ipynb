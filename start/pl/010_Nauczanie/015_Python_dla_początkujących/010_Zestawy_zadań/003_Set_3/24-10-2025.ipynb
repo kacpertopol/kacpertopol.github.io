{
 "cells": [
  {
   "cell_type": "markdown",
   "id": "1a20a3d5-2a06-431e-a200-f320b82985e0",
   "metadata": {},
   "source": [
    "# importy\n",
    "\n",
    "Tutaj zaimportujemy sobie przydatne moduły."
   ]
  },
  {
   "cell_type": "code",
   "execution_count": 15,
   "id": "0038a009-5e3a-47a9-a855-3b7e1e8ae0d7",
   "metadata": {},
   "outputs": [],
   "source": [
    "import time"
   ]
  },
  {
   "cell_type": "markdown",
   "id": "7d9b480e-87a7-48c1-ab80-36205ce7db01",
   "metadata": {},
   "source": [
    "# co to jest `match`"
   ]
  },
  {
   "cell_type": "code",
   "execution_count": 16,
   "id": "ca000221-b06c-43e4-8a49-a421a1c2b687",
   "metadata": {},
   "outputs": [
    {
     "name": "stdout",
     "output_type": "stream",
     "text": [
      "dwa\n"
     ]
    }
   ],
   "source": [
    "x = 2\n",
    "if x == 1:\n",
    "    print(\"coś\")\n",
    "elif x == 2:\n",
    "    print(\"dwa\")\n",
    "elif x == 3:\n",
    "    print(3)\n",
    "else:\n",
    "    print(\"?\")"
   ]
  },
  {
   "cell_type": "code",
   "execution_count": 17,
   "id": "a92f5295-1192-4370-8d33-821fac2aff0c",
   "metadata": {},
   "outputs": [
    {
     "name": "stdout",
     "output_type": "stream",
     "text": [
      "3\n"
     ]
    }
   ],
   "source": [
    "x = 3\n",
    "match x:\n",
    "    case 1:\n",
    "        print(\"coś\")\n",
    "    case 2:\n",
    "        print(\"dwa\")\n",
    "    case 3:\n",
    "        print(3)\n",
    "    case _:\n",
    "        print(\"?\")"
   ]
  },
  {
   "cell_type": "markdown",
   "id": "7949eedb-579f-40e5-853a-d2e2f69af6d2",
   "metadata": {},
   "source": [
    "# czym jest pętelka `while`"
   ]
  },
  {
   "cell_type": "code",
   "execution_count": 18,
   "id": "982459e9-3c38-4cb1-aa9b-eddba254271e",
   "metadata": {},
   "outputs": [
    {
     "name": "stdout",
     "output_type": "stream",
     "text": [
      "0\n",
      "1\n",
      "2\n",
      "3\n",
      "4\n",
      "5\n",
      "6\n",
      "7\n",
      "8\n",
      "9\n"
     ]
    }
   ],
   "source": [
    "for i in range(10):\n",
    "    print(i)"
   ]
  },
  {
   "cell_type": "code",
   "execution_count": 20,
   "id": "707cba03-e82f-43fb-8946-f875b260bb5d",
   "metadata": {},
   "outputs": [
    {
     "name": "stdout",
     "output_type": "stream",
     "text": [
      "0\n",
      "1\n",
      "2\n",
      "3\n",
      "4\n",
      "5\n",
      "6\n",
      "7\n",
      "8\n",
      "9\n"
     ]
    }
   ],
   "source": [
    "for element in [0 , 1 , 2 , 3 , 4 , 5 , 6 , 7 , 8 , 9]:\n",
    "    print(element)"
   ]
  },
  {
   "cell_type": "code",
   "execution_count": 22,
   "id": "26343d66-0143-4d9d-8745-9f571853c10c",
   "metadata": {},
   "outputs": [
    {
     "data": {
      "text/plain": [
       "[0, 1, 2, 3, 4, 5, 6, 7, 8, 9]"
      ]
     },
     "execution_count": 22,
     "metadata": {},
     "output_type": "execute_result"
    }
   ],
   "source": [
    "list(range(10))"
   ]
  },
  {
   "cell_type": "code",
   "execution_count": 23,
   "id": "b1bd72eb-ea25-4bd9-b92e-37497363fc20",
   "metadata": {},
   "outputs": [
    {
     "data": {
      "text/plain": [
       "(0, 1, 2, 3, 4, 5, 6, 7, 8, 9)"
      ]
     },
     "execution_count": 23,
     "metadata": {},
     "output_type": "execute_result"
    }
   ],
   "source": [
    "tuple(range(10))"
   ]
  },
  {
   "cell_type": "code",
   "execution_count": 25,
   "id": "1f4e2461-afa9-45e0-8205-66cf512714e2",
   "metadata": {},
   "outputs": [
    {
     "name": "stdout",
     "output_type": "stream",
     "text": [
      "0\n",
      "1\n",
      "2\n",
      "3\n",
      "4\n",
      "5\n",
      "6\n",
      "7\n",
      "8\n",
      "9\n"
     ]
    }
   ],
   "source": [
    "x = 0\n",
    "while x < 10:\n",
    "    print(x)\n",
    "    x += 1"
   ]
  },
  {
   "cell_type": "markdown",
   "id": "9842f427-252c-4cea-9a8a-ac906fb8a6bf",
   "metadata": {},
   "source": [
    "## `break` oraz `continue`\n",
    "\n",
    "Co robią, jak się z nich korzysta?"
   ]
  },
  {
   "cell_type": "code",
   "execution_count": 26,
   "id": "f6c6ff8d-18a9-404f-80be-7344f0b21bd6",
   "metadata": {},
   "outputs": [
    {
     "name": "stdout",
     "output_type": "stream",
     "text": [
      "0\n",
      "1\n",
      "2\n",
      "3\n",
      "4\n",
      "5\n"
     ]
    }
   ],
   "source": [
    "for x in range(10):\n",
    "    print(x)\n",
    "    if x == 5:\n",
    "        break"
   ]
  },
  {
   "cell_type": "code",
   "execution_count": 27,
   "id": "ded905c3-a3b7-458f-82b4-f91dc86c3911",
   "metadata": {},
   "outputs": [
    {
     "name": "stdout",
     "output_type": "stream",
     "text": [
      "0\n",
      "1\n",
      "2\n",
      "3\n",
      "4\n",
      "5\n"
     ]
    }
   ],
   "source": [
    "x = 0\n",
    "while x < 10:\n",
    "    print(x)\n",
    "    if x == 5:\n",
    "        break\n",
    "    x += 1"
   ]
  },
  {
   "cell_type": "code",
   "execution_count": 32,
   "id": "0dcb3968-ed09-4072-9c41-bf6f41180312",
   "metadata": {},
   "outputs": [
    {
     "name": "stdout",
     "output_type": "stream",
     "text": [
      "0\n",
      "1\n",
      "3\n",
      "4\n",
      "5\n",
      "6\n",
      "8\n",
      "9\n"
     ]
    }
   ],
   "source": [
    "for x in range(10):\n",
    "    if x == 2 or x == 7:\n",
    "        continue\n",
    "    print(x)"
   ]
  },
  {
   "cell_type": "code",
   "execution_count": 33,
   "id": "9e112c75-ae14-497f-8380-0a2938c9aa5a",
   "metadata": {},
   "outputs": [
    {
     "name": "stdout",
     "output_type": "stream",
     "text": [
      "0\n",
      "1\n",
      "2\n",
      "3\n",
      "4\n",
      "6\n",
      "7\n",
      "8\n",
      "9\n"
     ]
    }
   ],
   "source": [
    "x = 0\n",
    "while x < 10:\n",
    "    if x == 5:\n",
    "        x += 1\n",
    "        continue\n",
    "    print(x)\n",
    "    x += 1"
   ]
  },
  {
   "cell_type": "code",
   "execution_count": 34,
   "id": "ab402bfb-76d7-4f42-9ccc-4885123804c1",
   "metadata": {},
   "outputs": [
    {
     "name": "stdin",
     "output_type": "stream",
     "text": [
      "What would you like to do next? do nothing\n"
     ]
    }
   ],
   "source": [
    "con = True\n",
    "tstart = time.time()\n",
    "while con:\n",
    "    tcurrent = time.time()\n",
    "    if tcurrent - tstart > 10:\n",
    "        whattodo = input(\"What would you like to do next?\")\n",
    "        break"
   ]
  },
  {
   "cell_type": "markdown",
   "id": "38385568-7a5e-489b-aa37-69888e124f8f",
   "metadata": {},
   "source": [
    "# rysowanie wykresów korzystając z `matplotlib`"
   ]
  },
  {
   "cell_type": "code",
   "execution_count": 35,
   "id": "6561537b-7118-44fa-8c09-9c534df0be4b",
   "metadata": {},
   "outputs": [],
   "source": [
    "import matplotlib.pyplot as plt"
   ]
  },
  {
   "cell_type": "code",
   "execution_count": 39,
   "id": "ae0d292a-3ff6-4ee6-bf58-d09b3ff8dd41",
   "metadata": {},
   "outputs": [],
   "source": [
    "x = [0.2 , 3.5 , 4.5 , 4.5]\n",
    "y = [1 , 2 , 3 , 1]"
   ]
  },
  {
   "cell_type": "code",
   "execution_count": 40,
   "id": "4b01857b-eca3-443e-94c8-561f76bbd5c9",
   "metadata": {},
   "outputs": [
    {
     "data": {
      "text/plain": [
       "<matplotlib.collections.PathCollection at 0x7fc5d1ae0910>"
      ]
     },
     "execution_count": 40,
     "metadata": {},
     "output_type": "execute_result"
    },
    {
     "data": {
      "image/png": "[encoded data removed]",
      "text/plain": [
       "<Figure size 640x480 with 1 Axes>"
      ]
     },
     "metadata": {},
     "output_type": "display_data"
    }
   ],
   "source": [
    "plt.scatter(x , y)"
   ]
  },
  {
   "cell_type": "markdown",
   "id": "238bd061-67ce-4ac6-9673-b724525419dc",
   "metadata": {},
   "source": [
    "# funkcje anonimowe"
   ]
  },
  {
   "cell_type": "code",
   "execution_count": 41,
   "id": "dcd80097-1fba-411c-a83b-a42621e7c3c7",
   "metadata": {},
   "outputs": [],
   "source": [
    "def fun(x , y):\n",
    "    return x + y"
   ]
  },
  {
   "cell_type": "code",
   "execution_count": 42,
   "id": "6b689618-cab6-4cb7-909f-1dde2a53d6a2",
   "metadata": {},
   "outputs": [
    {
     "data": {
      "text/plain": [
       "3"
      ]
     },
     "execution_count": 42,
     "metadata": {},
     "output_type": "execute_result"
    }
   ],
   "source": [
    "fun(1 , 2)"
   ]
  },
  {
   "cell_type": "code",
   "execution_count": 43,
   "id": "cdc2d86b-1c8b-4a15-821a-7d77f79d9159",
   "metadata": {},
   "outputs": [
    {
     "data": {
      "text/plain": [
       "<function __main__.fun(x, y)>"
      ]
     },
     "execution_count": 43,
     "metadata": {},
     "output_type": "execute_result"
    }
   ],
   "source": [
    "fun"
   ]
  },
  {
   "cell_type": "code",
   "execution_count": 46,
   "id": "beb5003e-e0f7-4f30-a454-ec2108a4e039",
   "metadata": {},
   "outputs": [],
   "source": [
    "lambdafunction = (lambda x , y : x + y)"
   ]
  },
  {
   "cell_type": "code",
   "execution_count": 47,
   "id": "f60b475e-22ac-4685-ae52-d6b067eed4dd",
   "metadata": {},
   "outputs": [
    {
     "data": {
      "text/plain": [
       "3"
      ]
     },
     "execution_count": 47,
     "metadata": {},
     "output_type": "execute_result"
    }
   ],
   "source": [
    "lambdafunction(1 , 2)"
   ]
  },
  {
   "cell_type": "code",
   "execution_count": 48,
   "id": "f1d07699-0386-47a0-8491-24cdf0f0efe5",
   "metadata": {},
   "outputs": [
    {
     "data": {
      "text/plain": [
       "3"
      ]
     },
     "execution_count": 48,
     "metadata": {},
     "output_type": "execute_result"
    }
   ],
   "source": [
    "(lambda x , y : x + y)(1 , 2)"
   ]
  },
  {
   "cell_type": "code",
   "execution_count": 49,
   "id": "2430eb81-5b42-4929-9118-797ecfc50cf1",
   "metadata": {},
   "outputs": [],
   "source": [
    "def function_with_function_argument(x , fun):\n",
    "    return fun(x)"
   ]
  },
  {
   "cell_type": "code",
   "execution_count": 50,
   "id": "4754a0dd-1735-4240-8b05-4b89867ac975",
   "metadata": {},
   "outputs": [],
   "source": [
    "def funa(x):\n",
    "    return 2 * x"
   ]
  },
  {
   "cell_type": "code",
   "execution_count": 51,
   "id": "7943060e-0735-4eb9-aafc-61bc875b0a01",
   "metadata": {},
   "outputs": [
    {
     "data": {
      "text/plain": [
       "4"
      ]
     },
     "execution_count": 51,
     "metadata": {},
     "output_type": "execute_result"
    }
   ],
   "source": [
    "function_with_function_argument(2 , funa)"
   ]
  },
  {
   "cell_type": "code",
   "execution_count": 52,
   "id": "e190d1c9-3234-4ac9-9e1d-bc57649d32dc",
   "metadata": {},
   "outputs": [
    {
     "data": {
      "text/plain": [
       "4"
      ]
     },
     "execution_count": 52,
     "metadata": {},
     "output_type": "execute_result"
    }
   ],
   "source": [
    "function_with_function_argument(2 , lambda x : 2 * x)"
   ]
  },
  {
   "cell_type": "code",
   "execution_count": null,
   "id": "c6a813d6-68ec-44b2-8d89-9303c3bb0c63",
   "metadata": {},
   "outputs": [],
   "source": []
  }
 ],
 "metadata": {
  "kernelspec": {
   "display_name": "Python 3 (ipykernel)",
   "language": "python",
   "name": "python3"
  },
  "language_info": {
   "codemirror_mode": {
    "name": "ipython",
    "version": 3
   },
   "file_extension": ".py",
   "mimetype": "text/x-python",
   "name": "python",
   "nbconvert_exporter": "python",
   "pygments_lexer": "ipython3",
   "version": "3.13.7"
  }
 },
 "nbformat": 4,
 "nbformat_minor": 5
}
